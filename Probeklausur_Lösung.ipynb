{
 "cells": [
  {
   "cell_type": "markdown",
   "metadata": {},
   "source": [
    "# Probeklausur"
   ]
  },
  {
   "cell_type": "markdown",
   "metadata": {},
   "source": [
    "Notes: 90min, 60 Punkte \n",
    "3 Aufgaben, 20P je Aufgabe.  "
   ]
  },
  {
   "cell_type": "code",
   "execution_count": null,
   "metadata": {
    "metadata": {}
   },
   "outputs": [],
   "source": [
    "import pandas as pd\n",
    "import matplotlib.pyplot as plt\n",
    "import statistics as stat\n",
    "import numpy as np\n",
    "import statsmodels.api as sm\n",
    "import re"
   ]
  },
  {
   "cell_type": "markdown",
   "metadata": {},
   "source": [
    "## Aufgabe 1\n",
    "\n",
    "a) (2 Punkte) Lade den Datensatz \"Electricity Data from Australia\" in ein Pandas \n",
    "DataFrame und zeige die ersten 5 Zeilen an. \n"
   ]
  },
  {
   "cell_type": "code",
   "execution_count": null,
   "metadata": {
    "metadata": {}
   },
   "outputs": [],
   "source": [
    "df = pd.read_csv(\"data\\electricity-normalized.csv\",\n",
    "            sep = \",\")\n",
    "df.head()"
   ]
  },
  {
   "cell_type": "markdown",
   "metadata": {},
   "source": [
    "b) (2 Punkte) Wie viele Zeilen und Spalten enthält der Datensatz? \n"
   ]
  },
  {
   "cell_type": "code",
   "execution_count": null,
   "metadata": {
    "metadata": {}
   },
   "outputs": [],
   "source": [
    "df.shape"
   ]
  },
  {
   "cell_type": "markdown",
   "metadata": {},
   "source": [
    "c) (2 Punkte) Auf Kaggle finet sich folgende info für die date Column: \"date: date \n",
    "between 7 May 1996 to 5 December 1998. Here normalized between 0 and \n",
    "1?\" Somit sollten äquivalente Werte in \"date\" für dasselbe Datum \n",
    "stehen. Wieviele unterschiedliche Tage wurden beobachtet? \n"
   ]
  },
  {
   "cell_type": "code",
   "execution_count": null,
   "metadata": {
    "metadata": {}
   },
   "outputs": [],
   "source": [
    "len(df[\"date\"].unique())"
   ]
  },
  {
   "cell_type": "markdown",
   "metadata": {},
   "source": [
    "d) (4 Punkte) Berechne den durchschnittlichen Strompreis für NSW für die Klassen \n",
    "\"UP\" und \"DOWN\". Printe das Ergebnis mit einem String der die Zahlen \n",
    "dynamisch anpasst sollte sich Datensatz ändern: \"Der durschnittliche \n",
    "Strompreis für NSE bei Klasse UP ist: XX, bei Klasse DOWN: XX\" \n"
   ]
  },
  {
   "cell_type": "code",
   "execution_count": null,
   "metadata": {
    "metadata": {}
   },
   "outputs": [],
   "source": [
    "df_grp = df.groupby(\"class\")  \n",
    "Res = df_grp[\"nswprice\"].mean()\n",
    "\n",
    "print(f\"\"\"Der durchschnittliche Strompreis für NSE bei Klasse\" \n",
    "UP ist: {Res['UP']}, bei Klasse DOWN: {Res['DOWN']}\"\"\")"
   ]
  },
  {
   "cell_type": "markdown",
   "metadata": {},
   "source": [
    "e) (4 Punkte) Gegeben ist nun folgende Liste: \n",
    "`my_list = [10, \"apple\", True, 3.14, [1, 2, 3]]`\n",
    "\n",
    "Schreibe eine Funktion namens print_data_types, \n",
    "die die Datentypen jedes Eintrags in der Liste erkennt und ausgibt. \n",
    "\n",
    "Die Funktion muss auch für andere Listen funktionieren und muss \n",
    "folgenden Output haben:\n",
    "\n",
    "`Datentyp des Elements '10': int` <br />\n",
    "`Datentyp des Elements 'apple': str` <br />\n",
    "`Datentyp des Elements 'True': bool` <br />\n",
    "`Datentyp des Elements '3.14': float` <br />\n",
    "`Datentyp des Elements '[1, 2, 3]': list` <br />\n",
    "\n",
    "Hinweis: `.__name__`"
   ]
  },
  {
   "cell_type": "code",
   "execution_count": null,
   "metadata": {
    "metadata": {}
   },
   "outputs": [],
   "source": [
    "my_list = [10, \"apple\", True, 3.14, [1, 2, 3]]\n",
    "def print_data_types (list): \n",
    "    for item in list: \n",
    "        print(\"Datentyp des Elements\",\n",
    "            f\"'{str(item)}': {type(item).__name__}\")\n",
    "\n",
    "print_data_types(list = my_list)"
   ]
  },
  {
   "cell_type": "markdown",
   "metadata": {},
   "source": [
    "f) (6 Punkte) Gegeben ist eine Liste von Zahlen:\n",
    "`data = [12, 15, 18, 22, 10, 16, 8, 20]`\n",
    "\n",
    "Schreibe eine Funktion namens calculate_stats, \n",
    "die folgende Aufgaben erfüllt:\n",
    "\n",
    "Berechne den Durchschnitt (Mittelwert) der Zahlen in der gegebenen Liste.\n",
    "Berechne die Standardabweichung der Zahlen in der gegebenen Liste.\n",
    "Ermittle den größten Wert in der Liste.\n",
    "Ermittle den kleinsten Wert in der Liste.\n",
    "Gib eine sortierte Version der Liste zurück.\n",
    "\n",
    "Die Funktion muss auch für andere Listen funktionieren und muss \n",
    "folgenden Output haben:\n",
    "\n",
    "`Durchschnitt: 15.25` <br />\n",
    "`Standardabweichung: 4.671329640819974` <br />\n",
    "`Größter Wert: 22` <br />\n",
    "`Kleinster Wert: 8` <br />\n",
    "`Sortierte Liste: [8, 10, 12, 15, 16, 18, 20, 22]` <br />"
   ]
  },
  {
   "cell_type": "code",
   "execution_count": null,
   "metadata": {
    "metadata": {}
   },
   "outputs": [],
   "source": [
    "def calculate_stats(data): #1P\n",
    "    average = stat.mean(data) #2P\n",
    "    std_deviation = stat.stdev(data)\n",
    "    max_value = max(data)\n",
    "    min_value = min(data)\n",
    "    sorted_list = sorted(data)\n",
    "    \n",
    "    output = f\"Durchschnitt: {average}\\n\" #3P\n",
    "    output += f\"Standardabweichung: {std_deviation}\\n\"\n",
    "    output += f\"Größter Wert: {max_value}\\n\"\n",
    "    output += f\"Kleinster Wert: {min_value}\\n\"\n",
    "    output += f\"Sortierte Liste: {sorted_list}\\n\"\n",
    "    \n",
    "    return output\n",
    "\n",
    "data = [12, 15, 18, 22, 10, 16, 8, 20]\n",
    "\n",
    "result = calculate_stats(data)\n",
    "print(result)"
   ]
  },
  {
   "cell_type": "markdown",
   "metadata": {},
   "source": [
    "## Aufgabe 2\n",
    "\n",
    "a) (5 Punkte) Schreibe eine Funktion namens `simulate_data`, die einen simulierten \n",
    "Datensatz generiert. Die Funktion soll folgende Parameter akzeptieren:\n",
    "   - `mu1`, `mu2`: Mittelwerte für die Normalverteilung der Features \n",
    "   `X1` und `X2`\n",
    "   - `sigma1`, `sigma2`: Standardabweichungen für die Normalverteilung \n",
    "   der Features `X1` und `X2`\n",
    "   - `beta0`, `beta1`, `beta2`: Koeffizienten für die logistische \n",
    "   Regression\n",
    "   - `num_samples`: Anzahl der generierten Beobachtungen im Datensatz\n",
    "   - `seed`: Seed für die Zufallsziehung\n",
    "\n",
    "   Die Funktion soll die Features `X1` und `X2` generieren, die einer \n",
    "   Normalverteilung mit den angegebenen Mittelwerten und \n",
    "   Standardabweichungen folgen. Die Zielvariable `y` soll von den \n",
    "   Werten der Features abhängen und basierend auf einer logistischen \n",
    "   Regression zufällig mit einer bestimmten Wahrscheinlichkeit $p$ \n",
    "   entweder 0 oder 1 sein. Die Wahrscheinlichkeiten werden mit \n",
    "   folgender Funktion generiert:\n",
    "   \n",
    "   $p = \\frac{1}{1 + e^{-(\\beta_0 + \\beta_1 X_1 + \\beta_2 X_2)}}$\n",
    "\n",
    "   Tipp: `rng = np.random.default_rng(seed)`\n",
    "   \n"
   ]
  },
  {
   "cell_type": "code",
   "execution_count": null,
   "metadata": {
    "metadata": {}
   },
   "outputs": [],
   "source": [
    "def simulate_data(mu1, mu2, sigma1, sigma2, beta0, beta1, beta2, n,\n",
    "                seed):\n",
    "    rng = np.random.default_rng(seed)\n",
    "    X1 = rng.normal(mu1, sigma1, size=n) # 1P\n",
    "    X2 = rng.normal(mu2, sigma2, size=n) # 1P\n",
    "    p = 1 / (1 + np.exp(-(beta0 + beta1 * X1 + beta2 * X2))) \n",
    "    y = []\n",
    "    for p in p: # 2P\n",
    "        y.append(int(\n",
    "            rng.choice(a = np.array([1,0]),\n",
    "                                                        size=1,\n",
    "                                                        replace=True,\n",
    "                                                        p=[p,1-p],\n",
    "                                                        shuffle=True)))\n",
    "\n",
    "    return X1, X2, y"
   ]
  },
  {
   "cell_type": "markdown",
   "metadata": {},
   "source": [
    "b) (1 Punkt) Schreibe eine Funktion `check_missing_values()` die prüft, ob der \n",
    "Datensatz fehlende Werte beinhaltet und eine Meldung:\n",
    "\n",
    "`Der Datensatz enthält keine fehlenden Werte.` bzw.\n",
    "\n",
    "`Der Datensatz enthält fehlende Werte.` ausgibt. "
   ]
  },
  {
   "cell_type": "code",
   "execution_count": null,
   "metadata": {
    "metadata": {}
   },
   "outputs": [],
   "source": [
    "def check_missing_values(data):\n",
    "    if data.isnull().values.any():\n",
    "        print(\"Der Datensatz enthält fehlende Werte.\")\n",
    "    else:\n",
    "        print(\"Der Datensatz enthält keine fehlenden Werte.\")\n",
    "\n",
    "check_missing_values(df)"
   ]
  },
  {
   "cell_type": "markdown",
   "metadata": {},
   "source": [
    "c) (1 Punkt) Rufe die Funktion `simulate_data` mit den folgenden Parametern auf \n",
    "und generiere einen Datensatz mit 1000 Beobachtungen:\n",
    "   - `mu1 = 0`, `mu2 = 0`\n",
    "   - `sigma1 = 1`, `sigma2 = 0.5`\n",
    "   - `beta0 = 0`, `beta1 = 1`, `beta2 = 3`"
   ]
  },
  {
   "cell_type": "code",
   "execution_count": null,
   "metadata": {
    "metadata": {}
   },
   "outputs": [],
   "source": [
    "mu1, mu2 = 0, 0\n",
    "sigma1, sigma2 = 1, 0.5\n",
    "beta0, beta1, beta2 = 0, 1, 6\n",
    "n = 1000\n",
    "\n",
    "X1, X2, y = simulate_data(mu1, mu2, sigma1, sigma2, beta0, beta1, beta2, n,\n",
    "                        42)"
   ]
  },
  {
   "cell_type": "markdown",
   "metadata": {},
   "source": [
    "d) (3 Punkte) Visualisiere den generierten Datensatz, indem du X1 (X-Achse) \n",
    "und X2 (Y-Achse) in einem Scatterplot darstellst. (X1, X2) Pärchen \n",
    "mit einem Y-Wert von 0 sollen dabei Blau sein und (X1, X2) Pärchen mit \n",
    "einem Y-Wert von 1 sollen rot sein.\n",
    "\n"
   ]
  },
  {
   "cell_type": "code",
   "execution_count": null,
   "metadata": {
    "metadata": {}
   },
   "outputs": [],
   "source": [
    "is_zero = [element == 0 for element in y]\n",
    "is_one = [element == 1 for element in y]\n",
    "\n",
    "plt.scatter(X1[is_zero], X2[is_zero], color='blue', label='y=0')\n",
    "plt.scatter(X1[is_one], X2[is_one], color='red', label='y=1')\n",
    "plt.xlabel('X1')\n",
    "plt.ylabel('X2')\n",
    "plt.legend()\n",
    "plt.show()"
   ]
  },
  {
   "cell_type": "markdown",
   "metadata": {},
   "source": [
    "e) (3 Punkte) Interpretiere den Plot. "
   ]
  },
  {
   "cell_type": "code",
   "execution_count": null,
   "metadata": {
    "metadata": {}
   },
   "outputs": [],
   "source": [
    "#Interpretation:\n",
    "# beta1 und beta2 sind positv, das bedeutet, dass größere Werte von X1 \n",
    "# und X2 die Wahrscheinlichkeit y = 1 zu beobachten erhöhen. Wenn X1 und\n",
    "# X2 groß werden (1. Quadrant der Punktewolke) sind entsprechend nur \n",
    "# nur noch Werte von y = 1 zu beobachten. Da es sich um Wahrscheinlich-\n",
    "# keiten und keinen determinisitschen Zusammenhang handelt, sind \n",
    "# einzelne \"falsch positionierte\" Punkte trotzdem möglich."
   ]
  },
  {
   "cell_type": "markdown",
   "metadata": {},
   "source": [
    "f) (3 Punkte) Schätze mit den simulierten Daten ein logistisches Model mit \n",
    "`statsmodels`. Speichere die Predicitons des Models in einer Liste\n",
    "`y_pred`.\n",
    "Tipps: Y-Achsenabschnitt nicht vergessen, `sm.Logit(y, X)`\n"
   ]
  },
  {
   "cell_type": "code",
   "execution_count": null,
   "metadata": {
    "metadata": {}
   },
   "outputs": [],
   "source": [
    "X = sm.add_constant(np.column_stack((X1, X2)))"
   ]
  },
  {
   "cell_type": "code",
   "execution_count": null,
   "metadata": {
    "metadata": {}
   },
   "outputs": [],
   "source": [
    "logit_model = sm.Logit(y, X)\n",
    "logit_result = logit_model.fit()\n",
    "\n",
    "# Predictions\n",
    "y_pred = logit_result.predict(X)"
   ]
  },
  {
   "cell_type": "markdown",
   "metadata": {},
   "source": [
    "\n",
    "g) (4 Punkte) Erstelle einen 3D Plot mit Matplotlib. Die X-Achse soll X1, die Y-Achse X2, und die Z-Achse y darstellen. Füge die `y_pred` hinzu und zeige diese als Punkte mit einem \"x\"-Symbol an. Verwende unterschiedliche Farben für die Originaldatenpunkte und die Vorhersagen (`y_pred`). Füge eine Legende hinzu die sich auf die beobachteten Daten (label name: \"original data\") und auf die geschätzten daten (label name: \"predicted data\") bezieht.\n",
    "\n",
    "Zur Veranschaulichung ein Beispielplot:\n",
    "\n",
    "![Example Plot](https://matplotlib.org/stable/_images/sphx_glr_scatter3d_001.png) \n"
   ]
  },
  {
   "cell_type": "code",
   "execution_count": null,
   "metadata": {
    "metadata": {}
   },
   "outputs": [],
   "source": [
    "fig = plt.figure()\n",
    "ax = fig.add_subplot(projection='3d')\n",
    "\n",
    "# Plot original data points\n",
    "ax.scatter(X1, X2, y, c='blue', marker='o', label='Original Data')\n",
    "\n",
    "# Plot predicted data points\n",
    "ax.scatter(X1, X2, y_pred, c='red', marker='x', label='Predicted Data')\n",
    "\n",
    "# Adding labels and title\n",
    "ax.set_xlabel('X1')\n",
    "ax.set_ylabel('X2')\n",
    "ax.set_zlabel('y')\n",
    "ax.set_title('3D Plot of Original and Predicted Data')\n",
    "\n",
    "# Adding legend\n",
    "ax.legend()\n",
    "\n",
    "# Show plot\n",
    "plt.show()"
   ]
  },
  {
   "cell_type": "markdown",
   "metadata": {},
   "source": [
    "## Aufgabe 3\n",
    "\n",
    "Frage 1 (3 Punkte):\n",
    "Schreibe eine Lambda-Funktion, die den Quadratwert einer gegebenen Zahl zurückgibt. Wenden Sie diese Funktion auf die Liste `list_a = [12, 23, 1, -4]` an"
   ]
  },
  {
   "cell_type": "code",
   "execution_count": null,
   "metadata": {
    "metadata": {}
   },
   "outputs": [],
   "source": [
    "list_a = [12, 23, 1, -4]\n",
    "result = list(map(lambda x: x**2, list_a))\n",
    "print(result)"
   ]
  },
  {
   "cell_type": "markdown",
   "metadata": {},
   "source": [
    "Frage 2 (6 Punkte):\n",
    "Schreibe eine Funktion in Python namens \"validate_password\", die überprüft, ob ein gegebenes Passwort den folgenden Anforderungen entspricht:\n",
    "\n",
    "* Mindestens 8 Zeichen lang\n",
    "* Enthält mindestens einen Kleinbuchstaben\n",
    "* Enthält mindestens einen Großbuchstaben\n",
    "* Enthält mindestens eine Zahl\n",
    "\n",
    "Die Funktion sollte einen Parameter \"password\" haben, der das zu überprüfende Passwort darstellt. Die Funktion soll True zurückgeben, wenn das Passwort den Anforderungen entspricht, andernfalls False."
   ]
  },
  {
   "cell_type": "code",
   "execution_count": null,
   "metadata": {
    "metadata": {}
   },
   "outputs": [],
   "source": [
    "def validate_password(password):\n",
    "    # Überprüfung der Länge des Passworts\n",
    "    if len(password) < 8:\n",
    "        return False\n",
    "    \n",
    "    # Überprüfung auf Kleinbuchstaben\n",
    "    if not re.search(r\"[a-z]\", password):\n",
    "        return False\n",
    "    \n",
    "    # Überprüfung auf Großbuchstaben\n",
    "    if not re.search(r\"[A-Z]\", password):\n",
    "        return False\n",
    "    \n",
    "    # Überprüfung auf Zahlen\n",
    "    if not re.search(r\"\\d\", password):\n",
    "        return False\n",
    "    \n",
    "    # Wenn alle Bedingungen erfüllt sind, ist das Passwort gültig\n",
    "    return True"
   ]
  },
  {
   "cell_type": "markdown",
   "metadata": {},
   "source": [
    "Frage 3 (6 Punkte):\n",
    "Schreibe eine regular expression, die prüft, ob eine gegebene Zeichenkette ein gültiges E-Mail-Format hat. Ein gültiges E-Mail-Format enthält einen Benutzernamen, gefolgt von einem @-Zeichen, gefolgt von einer Domain-Endung (z. B. .de,.com, .org, .edu).\n",
    "Pruefe die Loesung auf eine geeignete Art und Weise, sodass einmal eine Mail erfolgreich erkannt wird und einmal eine Beispielmailadresse als \"falsch\" klassifiziert wird."
   ]
  },
  {
   "cell_type": "code",
   "execution_count": null,
   "metadata": {
    "metadata": {}
   },
   "outputs": [],
   "source": [
    "email_regex = r'^\\w+@\\w+\\.(com|org|edu|de)$' # ^ -> beginnt am Anfang der Zeichenkette, \\w+ -> ein oder mehrere\n",
    "                                            # \\w+ -> ein oder mehrere alphanumerische Zeichen,\n",
    "                                            # @ -> @,\n",
    "                                            # \\. -> das Zeichen .\n",
    "                                            # (com|org|edu|de) -> eine dieser endungen soll vorkommen,\n",
    "                                            # $ -> endet am Ende der Zeichenkette\n",
    "\n",
    "match = re.match(email_regex, \"stardust@gmx.de\")\n",
    "if match: \n",
    "    print(\"Ist eine Mail Adresse\")\n",
    "else:\n",
    "     print(\"Ist keine Mail Adresse\")\n",
    "        \n",
    "match = re.match(email_regex, \"achtungdasistkeineemailadresse\")\n",
    "if match: \n",
    "    print(\"Ist eine Mail Adresse\")\n",
    "else:\n",
    "     print(\"Ist keine Mail Adresse\")"
   ]
  },
  {
   "cell_type": "markdown",
   "metadata": {},
   "source": [
    "Frage 4 (5 Punkte):\n",
    "Gegeben ist eine Klasse `Auto` mit der Methode `fahren()`, die \"Das Auto fährt\" ausgibt. Erstelle eine Unterklasse `ElektroAuto`, die von der Klasse `Auto` erbt, und überschreibe die Methode `fahren()`, um \"Das Elektroauto fährt geräuschlos\" auszugeben. Pruefe es anschliessend mit folgendem Code:\n",
    "\n",
    "```python   \n",
    "mercedes = Auto(\"Mercedes\")\n",
    "mercedes.fahren()\n",
    "emercedes = ElektroAuto(\"EMercedes\")\n",
    "emercedes.fahren()\n",
    "```"
   ]
  },
  {
   "cell_type": "code",
   "execution_count": null,
   "metadata": {},
   "outputs": [],
   "source": [
    "class Auto:\n",
    "    def __init__(self, marke):\n",
    "        self.marke = marke\n",
    "\n",
    "    def fahren(self):\n",
    "        print(\"Das Auto fährt\")"
   ]
  },
  {
   "cell_type": "code",
   "execution_count": null,
   "metadata": {
    "metadata": {}
   },
   "outputs": [],
   "source": [
    "class Auto:\n",
    "    def __init__(self, marke):\n",
    "        self.marke = marke\n",
    "\n",
    "    def fahren(self):\n",
    "        print(\"Das Auto fährt\")\n",
    "\n",
    "# Loesung:\n",
    "class ElektroAuto(Auto):\n",
    "    def fahren(self):\n",
    "        print(\"Das Elektroauto fährt geräuschlos\")\n",
    "\n",
    "        \n",
    "mercedes = Auto(\"Mercedes\")\n",
    "mercedes.fahren()\n",
    "emercedes = ElektroAuto(\"EMercedes\")\n",
    "emercedes.fahren()"
   ]
  }
 ],
 "metadata": {
  "kernelspec": {
   "display_name": "Python 3 (ipykernel)",
   "language": "python",
   "name": "python3"
  },
  "language_info": {
   "codemirror_mode": {
    "name": "ipython",
    "version": 3
   },
   "file_extension": ".py",
   "mimetype": "text/x-python",
   "name": "python",
   "nbconvert_exporter": "python",
   "pygments_lexer": "ipython3",
   "version": "3.9.13"
  }
 },
 "nbformat": 4,
 "nbformat_minor": 2
}
