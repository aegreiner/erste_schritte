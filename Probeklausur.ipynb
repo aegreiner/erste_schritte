{
 "cells": [
  {
   "cell_type": "markdown",
   "metadata": {},
   "source": [
    "# Probeklausur"
   ]
  },
  {
   "cell_type": "markdown",
   "metadata": {},
   "source": [
    "Notes: 90min, 60 Punkte \n",
    "3 Aufgaben, 20P je Aufgabe.  "
   ]
  },
  {
   "cell_type": "code",
   "execution_count": 1,
   "metadata": {
    "metadata": {}
   },
   "outputs": [
    {
     "ename": "ModuleNotFoundError",
     "evalue": "No module named 'statsmodels'",
     "output_type": "error",
     "traceback": [
      "\u001b[1;31m---------------------------------------------------------------------------\u001b[0m",
      "\u001b[1;31mModuleNotFoundError\u001b[0m                       Traceback (most recent call last)",
      "Cell \u001b[1;32mIn[1], line 5\u001b[0m\n\u001b[0;32m      3\u001b[0m \u001b[38;5;28;01mimport\u001b[39;00m \u001b[38;5;21;01mstatistics\u001b[39;00m \u001b[38;5;28;01mas\u001b[39;00m \u001b[38;5;21;01mstat\u001b[39;00m\n\u001b[0;32m      4\u001b[0m \u001b[38;5;28;01mimport\u001b[39;00m \u001b[38;5;21;01mnumpy\u001b[39;00m \u001b[38;5;28;01mas\u001b[39;00m \u001b[38;5;21;01mnp\u001b[39;00m\n\u001b[1;32m----> 5\u001b[0m \u001b[38;5;28;01mimport\u001b[39;00m \u001b[38;5;21;01mstatsmodels\u001b[39;00m\u001b[38;5;21;01m.\u001b[39;00m\u001b[38;5;21;01mapi\u001b[39;00m \u001b[38;5;28;01mas\u001b[39;00m \u001b[38;5;21;01msm\u001b[39;00m\n\u001b[0;32m      6\u001b[0m \u001b[38;5;28;01mimport\u001b[39;00m \u001b[38;5;21;01mre\u001b[39;00m\n",
      "\u001b[1;31mModuleNotFoundError\u001b[0m: No module named 'statsmodels'"
     ]
    }
   ],
   "source": [
    "import pandas as pd\n",
    "import matplotlib.pyplot as plt\n",
    "import statistics as stat\n",
    "import numpy as np\n",
    "import statsmodels.api as sm\n",
    "#python -m pip install statsmodels\n",
    "import re"
   ]
  },
  {
   "cell_type": "markdown",
   "metadata": {},
   "source": [
    "## Aufgabe 1\n",
    "\n",
    "a) (2 Punkte) Lade den Datensatz \"Electricity Data from Australia\" in ein Pandas \n",
    "DataFrame und zeige die ersten 5 Zeilen an. \n"
   ]
  },
  {
   "cell_type": "code",
   "execution_count": null,
   "metadata": {
    "metadata": {}
   },
   "outputs": [],
   "source": []
  },
  {
   "cell_type": "markdown",
   "metadata": {},
   "source": [
    "b) (2 Punkte) Wie viele Zeilen und Spalten enthält der Datensatz? \n"
   ]
  },
  {
   "cell_type": "code",
   "execution_count": null,
   "metadata": {
    "metadata": {}
   },
   "outputs": [],
   "source": []
  },
  {
   "cell_type": "markdown",
   "metadata": {},
   "source": [
    "c) (2 Punkte) Auf Kaggle finet sich folgende info für die date Column: \"date: date \n",
    "between 7 May 1996 to 5 December 1998. Here normalized between 0 and \n",
    "1?\" Somit sollten äquivalente Werte in \"date\" für dasselbe Datum \n",
    "stehen. Wieviele unterschiedliche Tage wurden beobachtet? \n"
   ]
  },
  {
   "cell_type": "code",
   "execution_count": null,
   "metadata": {
    "metadata": {}
   },
   "outputs": [],
   "source": []
  },
  {
   "cell_type": "markdown",
   "metadata": {},
   "source": [
    "d) (4 Punkte) Berechne den durchschnittlichen Strompreis für NSW für die Klassen \n",
    "\"UP\" und \"DOWN\". Printe das Ergebnis mit einem String der die Zahlen \n",
    "dynamisch anpasst sollte sich Datensatz ändern: \"Der durschnittliche \n",
    "Strompreis für NSE bei Klasse UP ist: XX, bei Klasse DOWN: XX\" \n"
   ]
  },
  {
   "cell_type": "code",
   "execution_count": null,
   "metadata": {
    "metadata": {}
   },
   "outputs": [],
   "source": []
  },
  {
   "cell_type": "markdown",
   "metadata": {},
   "source": [
    "e) (4 Punkte) Gegeben ist nun folgende Liste: \n",
    "`my_list = [10, \"apple\", True, 3.14, [1, 2, 3]]`\n",
    "\n",
    "Schreibe eine Funktion namens print_data_types, \n",
    "die die Datentypen jedes Eintrags in der Liste erkennt und ausgibt. \n",
    "\n",
    "Die Funktion muss auch für andere Listen funktionieren und muss \n",
    "folgenden Output haben:\n",
    "\n",
    "`Datentyp des Elements '10': int` <br />\n",
    "`Datentyp des Elements 'apple': str` <br />\n",
    "`Datentyp des Elements 'True': bool` <br />\n",
    "`Datentyp des Elements '3.14': float` <br />\n",
    "`Datentyp des Elements '[1, 2, 3]': list` <br />\n",
    "\n",
    "Hinweis: `.__name__`"
   ]
  },
  {
   "cell_type": "code",
   "execution_count": null,
   "metadata": {
    "metadata": {}
   },
   "outputs": [],
   "source": []
  },
  {
   "cell_type": "markdown",
   "metadata": {},
   "source": [
    "f) (6 Punkte) Gegeben ist eine Liste von Zahlen:\n",
    "`data = [12, 15, 18, 22, 10, 16, 8, 20]`\n",
    "\n",
    "Schreibe eine Funktion namens calculate_stats, \n",
    "die folgende Aufgaben erfüllt:\n",
    "\n",
    "Berechne den Durchschnitt (Mittelwert) der Zahlen in der gegebenen Liste.\n",
    "Berechne die Standardabweichung der Zahlen in der gegebenen Liste.\n",
    "Ermittle den größten Wert in der Liste.\n",
    "Ermittle den kleinsten Wert in der Liste.\n",
    "Gib eine sortierte Version der Liste zurück.\n",
    "\n",
    "Die Funktion muss auch für andere Listen funktionieren und muss \n",
    "folgenden Output haben:\n",
    "\n",
    "`Durchschnitt: 15.25` <br />\n",
    "`Standardabweichung: 4.671329640819974` <br />\n",
    "`Größter Wert: 22` <br />\n",
    "`Kleinster Wert: 8` <br />\n",
    "`Sortierte Liste: [8, 10, 12, 15, 16, 18, 20, 22]` <br />"
   ]
  },
  {
   "cell_type": "code",
   "execution_count": null,
   "metadata": {
    "metadata": {}
   },
   "outputs": [],
   "source": []
  },
  {
   "cell_type": "markdown",
   "metadata": {},
   "source": [
    "## Aufgabe 2\n",
    "\n",
    "a) (5 Punkte) Schreibe eine Funktion namens `simulate_data`, die einen simulierten \n",
    "Datensatz generiert. Die Funktion soll folgende Parameter akzeptieren:\n",
    "   - `mu1`, `mu2`: Mittelwerte für die Normalverteilung der Features \n",
    "   `X1` und `X2`\n",
    "   - `sigma1`, `sigma2`: Standardabweichungen für die Normalverteilung \n",
    "   der Features `X1` und `X2`\n",
    "   - `beta0`, `beta1`, `beta2`: Koeffizienten für die logistische \n",
    "   Regression\n",
    "   - `num_samples`: Anzahl der generierten Beobachtungen im Datensatz\n",
    "   - `seed`: Seed für die Zufallsziehung\n",
    "\n",
    "   Die Funktion soll die Features `X1` und `X2` generieren, die einer \n",
    "   Normalverteilung mit den angegebenen Mittelwerten und \n",
    "   Standardabweichungen folgen. Die Zielvariable `y` soll von den \n",
    "   Werten der Features abhängen und basierend auf einer logistischen \n",
    "   Regression zufällig mit einer bestimmten Wahrscheinlichkeit $p$ \n",
    "   entweder 0 oder 1 sein. Die Wahrscheinlichkeiten werden mit \n",
    "   folgender Funktion generiert:\n",
    "   \n",
    "   $p = \\frac{1}{1 + e^{-(\\beta_0 + \\beta_1 X_1 + \\beta_2 X_2)}}$\n",
    "\n",
    "   Tipp: `rng = np.random.default_rng(seed)`\n",
    "   \n"
   ]
  },
  {
   "cell_type": "code",
   "execution_count": null,
   "metadata": {
    "metadata": {}
   },
   "outputs": [],
   "source": []
  },
  {
   "cell_type": "markdown",
   "metadata": {},
   "source": [
    "b) (1 Punkt) Schreibe eine Funktion `check_missing_values()` die prüft, ob der \n",
    "Datensatz fehlende Werte beinhaltet und eine Meldung:\n",
    "\n",
    "`Der Datensatz enthält keine fehlenden Werte.` bzw.\n",
    "\n",
    "`Der Datensatz enthält fehlende Werte.` ausgibt. "
   ]
  },
  {
   "cell_type": "code",
   "execution_count": null,
   "metadata": {
    "metadata": {}
   },
   "outputs": [],
   "source": []
  },
  {
   "cell_type": "markdown",
   "metadata": {},
   "source": [
    "c) (1 Punkt) Rufe die Funktion `simulate_data` mit den folgenden Parametern auf \n",
    "und generiere einen Datensatz mit 1000 Beobachtungen:\n",
    "   - `mu1 = 0`, `mu2 = 0`\n",
    "   - `sigma1 = 1`, `sigma2 = 0.5`\n",
    "   - `beta0 = 0`, `beta1 = 1`, `beta2 = 3`"
   ]
  },
  {
   "cell_type": "code",
   "execution_count": null,
   "metadata": {
    "metadata": {}
   },
   "outputs": [],
   "source": []
  },
  {
   "cell_type": "markdown",
   "metadata": {},
   "source": [
    "d) (3 Punkte) Visualisiere den generierten Datensatz, indem du X1 (X-Achse) \n",
    "und X2 (Y-Achse) in einem Scatterplot darstellst. (X1, X2) Pärchen \n",
    "mit einem Y-Wert von 0 sollen dabei Blau sein und (X1, X2) Pärchen mit \n",
    "einem Y-Wert von 1 sollen rot sein.\n",
    "\n"
   ]
  },
  {
   "cell_type": "code",
   "execution_count": null,
   "metadata": {
    "metadata": {}
   },
   "outputs": [],
   "source": []
  },
  {
   "cell_type": "markdown",
   "metadata": {},
   "source": [
    "e) (3 Punkte) Interpretiere den Plot. "
   ]
  },
  {
   "cell_type": "code",
   "execution_count": null,
   "metadata": {
    "metadata": {}
   },
   "outputs": [],
   "source": []
  },
  {
   "cell_type": "markdown",
   "metadata": {},
   "source": [
    "f) (3 Punkte) Schätze mit den simulierten Daten ein logistisches Model mit \n",
    "`statsmodels`. Speichere die Predicitons des Models in einer Liste\n",
    "`y_pred`.\n",
    "Tipps: Y-Achsenabschnitt nicht vergessen, `sm.Logit(y, X)`\n"
   ]
  },
  {
   "cell_type": "code",
   "execution_count": null,
   "metadata": {
    "metadata": {}
   },
   "outputs": [],
   "source": []
  },
  {
   "cell_type": "code",
   "execution_count": null,
   "metadata": {
    "metadata": {}
   },
   "outputs": [],
   "source": []
  },
  {
   "cell_type": "markdown",
   "metadata": {},
   "source": [
    "\n",
    "g) (4 Punkte) Erstelle einen 3D Plot mit Matplotlib. Die X-Achse soll X1, die Y-Achse X2, und die Z-Achse y darstellen. Füge die `y_pred` hinzu und zeige diese als Punkte mit einem \"x\"-Symbol an. Verwende unterschiedliche Farben für die Originaldatenpunkte und die Vorhersagen (`y_pred`). Füge eine Legende hinzu die sich auf die beobachteten Daten (label name: \"original data\") und auf die geschätzten daten (label name: \"predicted data\") bezieht.\n",
    "\n",
    "Zur Veranschaulichung ein Beispielplot:\n",
    "\n",
    "![Example Plot](https://matplotlib.org/stable/_images/sphx_glr_scatter3d_001.png) \n"
   ]
  },
  {
   "cell_type": "code",
   "execution_count": null,
   "metadata": {
    "metadata": {}
   },
   "outputs": [],
   "source": []
  },
  {
   "cell_type": "markdown",
   "metadata": {},
   "source": [
    "## Aufgabe 3\n",
    "\n",
    "Frage 1 (3 Punkte):\n",
    "Schreibe eine Lambda-Funktion, die den Quadratwert einer gegebenen Zahl zurückgibt. Wenden Sie diese Funktion auf die Liste `list_a = [12, 23, 1, -4]` an"
   ]
  },
  {
   "cell_type": "code",
   "execution_count": null,
   "metadata": {
    "metadata": {}
   },
   "outputs": [],
   "source": []
  },
  {
   "cell_type": "markdown",
   "metadata": {},
   "source": [
    "Frage 2 (6 Punkte):\n",
    "Schreibe eine Funktion in Python namens \"validate_password\", die überprüft, ob ein gegebenes Passwort den folgenden Anforderungen entspricht:\n",
    "\n",
    "* Mindestens 8 Zeichen lang\n",
    "* Enthält mindestens einen Kleinbuchstaben\n",
    "* Enthält mindestens einen Großbuchstaben\n",
    "* Enthält mindestens eine Zahl\n",
    "\n",
    "Die Funktion sollte einen Parameter \"password\" haben, der das zu überprüfende Passwort darstellt. Die Funktion soll True zurückgeben, wenn das Passwort den Anforderungen entspricht, andernfalls False."
   ]
  },
  {
   "cell_type": "code",
   "execution_count": null,
   "metadata": {
    "metadata": {}
   },
   "outputs": [],
   "source": []
  },
  {
   "cell_type": "markdown",
   "metadata": {},
   "source": [
    "Frage 3 (6 Punkte):\n",
    "Schreibe eine regular expression, die prüft, ob eine gegebene Zeichenkette ein gültiges E-Mail-Format hat. Ein gültiges E-Mail-Format enthält einen Benutzernamen, gefolgt von einem @-Zeichen, gefolgt von einer Domain-Endung (z. B. .de,.com, .org, .edu).\n",
    "Pruefe die Loesung auf eine geeignete Art und Weise, sodass einmal eine Mail erfolgreich erkannt wird und einmal eine Beispielmailadresse als \"falsch\" klassifiziert wird."
   ]
  },
  {
   "cell_type": "code",
   "execution_count": null,
   "metadata": {
    "metadata": {}
   },
   "outputs": [],
   "source": []
  },
  {
   "cell_type": "markdown",
   "metadata": {},
   "source": [
    "Frage 4 (5 Punkte):\n",
    "Gegeben ist eine Klasse `Auto` mit der Methode `fahren()`, die \"Das Auto fährt\" ausgibt. Erstelle eine Unterklasse `ElektroAuto`, die von der Klasse `Auto` erbt, und überschreibe die Methode `fahren()`, um \"Das Elektroauto fährt geräuschlos\" auszugeben. Pruefe es anschliessend mit folgendem Code:\n",
    "\n",
    "```python   \n",
    "mercedes = Auto(\"Mercedes\")\n",
    "mercedes.fahren()\n",
    "emercedes = ElektroAuto(\"EMercedes\")\n",
    "emercedes.fahren()\n",
    "```"
   ]
  },
  {
   "cell_type": "code",
   "execution_count": null,
   "metadata": {},
   "outputs": [],
   "source": [
    "class Auto:\n",
    "    def __init__(self, marke):\n",
    "        self.marke = marke\n",
    "\n",
    "    def fahren(self):\n",
    "        print(\"Das Auto fährt\")"
   ]
  },
  {
   "cell_type": "code",
   "execution_count": null,
   "metadata": {
    "metadata": {}
   },
   "outputs": [],
   "source": []
  }
 ],
 "metadata": {
  "kernelspec": {
   "display_name": "Python 3 (ipykernel)",
   "language": "python",
   "name": "python3"
  },
  "language_info": {
   "codemirror_mode": {
    "name": "ipython",
    "version": 3
   },
   "file_extension": ".py",
   "mimetype": "text/x-python",
   "name": "python",
   "nbconvert_exporter": "python",
   "pygments_lexer": "ipython3",
   "version": "3.12.3"
  }
 },
 "nbformat": 4,
 "nbformat_minor": 2
}
