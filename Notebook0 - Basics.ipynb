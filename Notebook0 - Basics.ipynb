{
 "cells": [
  {
   "cell_type": "markdown",
   "id": "566b5a6f",
   "metadata": {},
   "source": [
    "# Organisatorisches"
   ]
  },
  {
   "cell_type": "markdown",
   "id": "4e3fe889",
   "metadata": {},
   "source": [
    "Prüfungsform \\\n",
    "Wann VL/Übung \\\n",
    "SO VC Infos\\\n",
    "dies das Ananas\\\n",
    "Ablauf\n",
    "\n",
    "\n",
    "\n",
    "## Punkt Why Python?"
   ]
  },
  {
   "cell_type": "markdown",
   "id": "4ff9aeda",
   "metadata": {},
   "source": [
    "## Python Installieren\n"
   ]
  },
  {
   "cell_type": "markdown",
   "id": "65a43b29",
   "metadata": {},
   "source": [
    "Wir arbeiten hier mit Python 3.11.1 (später update 3.12.3)\\\n",
    "https://www.python.org/downloads/ Version 3.12.3\n",
    "\n",
    "Bei Linux ist Python bereits installiert, dort aber bitte auf die Version achten!\n",
    "\n",
    "Python kann Skripte über eine Befehlszeilenschnittstelle ausführen, z. B.\n",
    "\n",
    "```\n",
    "python beispiel_skript.py\n",
    "```\n",
    "\n",
    "\n",
    "Wir werden mit vielen unterschiedlichen Python-Packages Arbeiten, was ziemlich chaotisch werden kann.\n",
    "Also arbeiten wir haupsächlich mit:\n",
    "\n",
    "     - pip package Manager\n",
    "     - Anaconda virtual environment manager\n",
    "     \n",
    "###  Pip package Manager\n",
    "     \n",
    "Zum Installieren, Verwalten und Entfernen arbeitet man direkt in der Kommandozeile (nicht in Python!):\n",
    "\n",
    "```\n",
    "pip install numpy\n",
    "pip install pandas\n",
    "\n",
    "```\n",
    "\n",
    "\n",
    "### Anaconda virtual enviroment manager\n",
    "\n",
    "Manager für virtual Enviroments:\\\n",
    "\n",
    "    - ermöglicht mehrere Python Umgebungen mit eigenen Packages\n",
    "    - eigenes Terminal (Anaconda Prompt)\n",
    "    \n",
    "    \n",
    "Download: \\\n",
    "https://www.anaconda.com/products/distribution\n",
    "    \n",
    "Initialisieren und Starten einer Conda Umgebung:\n",
    "\n",
    "```\n",
    "conda create --name name_umgebung\n",
    "conda activate name_umgebung\n",
    "```\n",
    "\n",
    "Zum Deaktivieren:\n",
    "```\n",
    "conda deactivate name_umgebung\n",
    "```\n",
    "\n",
    "Installieren von Paketen in Conda Umgebungen:\n",
    "\n",
    "```\n",
    "conda install -c anaconda numpy\n",
    "``` \n",
    "\n",
    "Es wäre auch möglich pip innerhalb eines solchen Enviroments zu nutzen.\n",
    "\n",
    "\n",
    "### PyCharm IDE\n",
    "\n",
    "\n",
    "PyCharm IDE\\\n",
    "https://www.jetbrains.com/de-de/pycharm/ \n",
    "\n",
    "\n",
    "### Jupyter Notebooks\n",
    "\n",
    "\n",
    "    - Äußerst bequeme Methode zum Präsentieren und Schreiben von Code\n",
    "    - Vergleichbar mit R-Markdown\n",
    "    - Verknüpfung von Code und Text\n",
    "    \n",
    "Installation:\\\n",
    "https://jupyter.org/install\n",
    "Navigieren Sie in ihre gewünschte Working directory (in der Kommandozeile) \n",
    "```\n",
    "cd Desktop\\Beispiel\\Pfad\n",
    "```\n",
    "\n",
    "und führen Sie dort \n",
    "```\n",
    "jupyter notebook\n",
    "```\n",
    "aus.\n",
    "\n",
    "\n",
    "## Github\n",
    "\n",
    "\n",
    "interaktive Session\n",
    "\n",
    "\n",
    "\n",
    "# Python Programmieren\n",
    "\n",
    "\n",
    "## Python als Taschenrechner\n"
   ]
  },
  {
   "cell_type": "code",
   "execution_count": 5,
   "id": "ddc15ff0",
   "metadata": {},
   "outputs": [
    {
     "data": {
      "text/plain": [
       "11"
      ]
     },
     "execution_count": 5,
     "metadata": {},
     "output_type": "execute_result"
    }
   ],
   "source": [
    "5 + 5 # Kommentare mit Rauten schreiben"
   ]
  },
  {
   "cell_type": "code",
   "execution_count": 2,
   "id": "322b4ef9",
   "metadata": {},
   "outputs": [
    {
     "data": {
      "text/plain": [
       "20"
      ]
     },
     "execution_count": 2,
     "metadata": {},
     "output_type": "execute_result"
    }
   ],
   "source": [
    "5 * 4 # fünf mal vier"
   ]
  },
  {
   "cell_type": "code",
   "execution_count": 7,
   "id": "1d94bf3f",
   "metadata": {},
   "outputs": [
    {
     "data": {
      "text/plain": [
       "25"
      ]
     },
     "execution_count": 7,
     "metadata": {},
     "output_type": "execute_result"
    }
   ],
   "source": [
    "5 ** 2 # fünf hoch 2"
   ]
  },
  {
   "cell_type": "code",
   "execution_count": 4,
   "id": "0139ecab",
   "metadata": {},
   "outputs": [
    {
     "data": {
      "text/plain": [
       "'Kommentare über mehrere\\nZeilen'"
      ]
     },
     "execution_count": 4,
     "metadata": {},
     "output_type": "execute_result"
    }
   ],
   "source": [
    "7 / 2\n",
    "\"\"\"Kommentare über mehrere\n",
    "Zeilen\"\"\""
   ]
  }
 ],
 "metadata": {
  "kernelspec": {
   "display_name": "Python 3 (ipykernel)",
   "language": "python",
   "name": "python3"
  },
  "language_info": {
   "codemirror_mode": {
    "name": "ipython",
    "version": 3
   },
   "file_extension": ".py",
   "mimetype": "text/x-python",
   "name": "python",
   "nbconvert_exporter": "python",
   "pygments_lexer": "ipython3",
   "version": "3.9.13"
  }
 },
 "nbformat": 4,
 "nbformat_minor": 5
}
