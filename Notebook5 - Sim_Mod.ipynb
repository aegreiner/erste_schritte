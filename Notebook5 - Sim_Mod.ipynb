{
 "cells": [
  {
   "attachments": {},
   "cell_type": "markdown",
   "metadata": {},
   "source": [
    "# Notebook5: Simulationen + GLM"
   ]
  },
  {
   "attachments": {},
   "cell_type": "markdown",
   "metadata": {
    "collapsed": false
   },
   "source": [
    "### Erzeugung von Zufallszahlen\n",
    "\n",
    "\n",
    "Das Erzeugen von Zufallszahlen ist eine häufige Anforderung in vielen Programmiersprachen, einschließlich Python. Python bietet eine integrierte Bibliothek namens \"random\", die Funktionen und Methoden zur Generierung von Zufallszahlen bereitstellt.\n",
    "\n",
    "Um die \"random\"-Bibliothek in Python zu verwenden, muss man sie zuerst importieren.\n",
    "Sobald die \"random\"-Bibliothek importiert ist, kann man auf verschiedene Funktionen und Methoden zugreifen, um Zufallszahlen zu erzeugen. Hier sind einige der häufig verwendeten Funktionen:\n",
    "\n"
   ]
  },
  {
   "attachments": {},
   "cell_type": "markdown",
   "metadata": {
    "collapsed": false
   },
   "source": [
    "1. `random.random()`: Diese Funktion gibt eine Zufallszahl zwischen 0 und 1 zurück. Jede mögliche Zahl hat die gleiche Wahrscheinlichkeit.\n",
    "\n"
   ]
  },
  {
   "cell_type": "code",
   "execution_count": null,
   "metadata": {
    "ExecuteTime": {
     "end_time": "2023-06-29T10:04:01.889161100Z",
     "start_time": "2023-06-29T10:04:01.422849200Z"
    },
    "collapsed": false,
    "metadata": {}
   },
   "outputs": [],
   "source": [
    "import random\n",
    "import numpy as np\n",
    "random.seed(42)\n",
    "x = random.random()\n",
    "print(x)\n"
   ]
  },
  {
   "attachments": {},
   "cell_type": "markdown",
   "metadata": {
    "collapsed": false
   },
   "source": [
    "\n",
    "2. `random.randint(a, b)`: Diese Funktion gibt eine Zufallszahl zwischen den angegebenen Ganzzahlen a und b (einschließlich a und b) zurück.\n",
    "\n"
   ]
  },
  {
   "cell_type": "code",
   "execution_count": null,
   "metadata": {
    "ExecuteTime": {
     "end_time": "2023-06-29T10:04:01.906447100Z",
     "start_time": "2023-06-29T10:04:01.459056500Z"
    },
    "collapsed": false,
    "metadata": {}
   },
   "outputs": [],
   "source": [
    "x = random.randint(1, 10)\n",
    "print(x)"
   ]
  },
  {
   "attachments": {},
   "cell_type": "markdown",
   "metadata": {
    "collapsed": false
   },
   "source": [
    "3. `random.choice(sequence)`: Diese Funktion gibt ein zufälliges Element aus einer gegebenen Sequenz zurück. Die Sequenz kann eine Liste, ein Tupel oder eine Zeichenkette sein.\n",
    "\n"
   ]
  },
  {
   "cell_type": "code",
   "execution_count": null,
   "metadata": {
    "ExecuteTime": {
     "end_time": "2023-06-29T10:04:01.908430700Z",
     "start_time": "2023-06-29T10:04:01.497248600Z"
    },
    "collapsed": false,
    "metadata": {}
   },
   "outputs": [],
   "source": [
    "fruits = [\"Apple\", \"Banana\", \"Orange\"]\n",
    "random_fruit = random.choice(fruits)\n",
    "print(random_fruit)\n"
   ]
  },
  {
   "attachments": {},
   "cell_type": "markdown",
   "metadata": {
    "collapsed": false
   },
   "source": [
    "Das sind nur einige Beispiele für die Verwendung der \"random\"-Bibliothek in Python. Es gibt noch viele weitere Funktionen und Methoden, mit denen man verschiedene Arten von Zufallszahlen erzeugen kann, einschließlich Gleitkommazahlen, zufälliger Auswahl aus einer Liste und vielem mehr.\n",
    "\n",
    "Es ist jedoch wichtig zu beachten, dass Zufallszahlen in Computern nicht wirklich zufällig sind, sondern auf deterministischen Algorithmen basieren. Für Reproduzierbarkeit, kannst du den Startwert des Zufallszahlengenerators mit der Funktion `random.seed()` festlegen.\n",
    "\n",
    "\n",
    "### Verteilungen:\n",
    "\n",
    "\n",
    "#### Normalverteilung"
   ]
  },
  {
   "cell_type": "code",
   "execution_count": null,
   "metadata": {
    "ExecuteTime": {
     "end_time": "2023-06-29T10:04:01.941663400Z",
     "start_time": "2023-06-29T10:04:01.548832Z"
    },
    "collapsed": false,
    "metadata": {}
   },
   "outputs": [],
   "source": [
    "mean = 0  # Mittelwert\n",
    "std_dev = 1  # Standardabweichung\n",
    "num_samples = 10  # Anzahl der Zufallszahlen\n",
    "\n",
    "samples = np.random.normal(loc = mean,\n",
    "                        scale = std_dev,\n",
    "                        size = num_samples)\n",
    "print(samples)"
   ]
  },
  {
   "attachments": {},
   "cell_type": "markdown",
   "metadata": {
    "collapsed": false
   },
   "source": [
    "#### Poissonverteilung"
   ]
  },
  {
   "cell_type": "code",
   "execution_count": null,
   "metadata": {
    "ExecuteTime": {
     "end_time": "2023-06-29T10:04:02.073758400Z",
     "start_time": "2023-06-29T10:04:01.834528700Z"
    },
    "collapsed": false,
    "metadata": {}
   },
   "outputs": [],
   "source": [
    "lambda_ = 2.0  # Parameter für die Poissonverteilung\n",
    "num_samples = 10  # Anzahl der Zufallszahlen\n",
    "\n",
    "samples = np.random.poisson(lambda_, num_samples)\n",
    "print(samples)"
   ]
  },
  {
   "attachments": {},
   "cell_type": "markdown",
   "metadata": {},
   "source": [
    "#### Binomialvertreilung"
   ]
  },
  {
   "cell_type": "code",
   "execution_count": null,
   "metadata": {
    "ExecuteTime": {
     "end_time": "2023-06-29T10:04:02.145676400Z",
     "start_time": "2023-06-29T10:04:02.075742Z"
    },
    "collapsed": false,
    "metadata": {}
   },
   "outputs": [],
   "source": [
    "n = 10  # Anzahl der Versuche\n",
    "p = 0.7  # Wahrscheinlichkeit für einen \"Erfolg\"\n",
    "num_samples = 10  # Anzahl der Zufallszahlen\n",
    "\n",
    "samples = np.random.binomial(n, p, num_samples)\n",
    "print(samples)"
   ]
  },
  {
   "attachments": {},
   "cell_type": "markdown",
   "metadata": {
    "collapsed": false
   },
   "source": [
    "### Kleine Simulation\n",
    "In diesem Beispiel werden zwei unabhängige Variablen `X1` und `X2` simuliert. Die abhängige Variable `Y_linear` hat einen linearen Zusammenhang mit den unabhängigen Variablen, während `Y_interaction` zusätzlich einen Interaktionszusammenhang zwischen `X1` und `X2` aufweist. Die Daten werden in einem Pandas DataFrame gespeichert und anschließend angezeigt.\n",
    "\n",
    "Man kann die Parameter und Verteilungen entsprechend anpassen, um verschiedene Zusammenhänge zu simulieren.\n"
   ]
  },
  {
   "cell_type": "code",
   "execution_count": null,
   "metadata": {
    "ExecuteTime": {
     "end_time": "2023-06-29T10:04:02.165516200Z",
     "start_time": "2023-06-29T10:04:02.095085800Z"
    },
    "collapsed": false,
    "metadata": {}
   },
   "outputs": [],
   "source": [
    "import pandas as pd\n",
    "np.random.seed(1)\n",
    "\n",
    "# Anzahl der Datenpunkte\n",
    "n = 200\n",
    "\n",
    "# Simulierte unabhängige Variable X1\n",
    "X1 = np.random.uniform(low = 0, high = 10, size = n)\n",
    "\n",
    "# Simulierte unabhängige Variable X2\n",
    "X2 = np.random.uniform(low = 0, high = 5, size = n)\n",
    "\n",
    "# Simulierter abhängiger Variablen Y mit linearem Zusammenhang\n",
    "Y_linear = 2 * X1 + 3 * X2 + np.random.normal(\n",
    "    loc = 0, scale = 1, size = n)\n",
    "\n",
    "# Simulierter abhängiger Variablen Y mit Interaktionszusammenhang\n",
    "Y_interaction = 2 * X1 + 3 * X2 + 2 * X1 * X2 + np.random.normal(\n",
    "    loc = 0, scale = 1, size = n)\n",
    "\n",
    "# Datensatz erstellen\n",
    "data = pd.DataFrame({'X1': X1,\n",
    "                    'X2': X2,\n",
    "                    'Y_linear': Y_linear,\n",
    "                    'Y_interaction': Y_interaction})\n",
    "\n",
    "\n",
    "# Daten anzeigen\n",
    "print(data.head())\n"
   ]
  },
  {
   "attachments": {},
   "cell_type": "markdown",
   "metadata": {
    "collapsed": false
   },
   "source": [
    "### Lineares Modell"
   ]
  },
  {
   "cell_type": "code",
   "execution_count": null,
   "metadata": {
    "ExecuteTime": {
     "end_time": "2023-06-29T10:04:02.166509400Z",
     "start_time": "2023-06-29T10:04:02.124348600Z"
    },
    "collapsed": false,
    "metadata": {}
   },
   "outputs": [],
   "source": [
    "from sklearn.linear_model import LinearRegression\n",
    "\n",
    "def linear_model(data, features, target):\n",
    "    # Features und Zielvariablen aus dem Datensatz extrahieren\n",
    "    X = data[features]\n",
    "    y = data[target]\n",
    "\n",
    "    # Lineares Regressionsmodell erstellen und anpassen\n",
    "    model = LinearRegression()\n",
    "    model.fit(X, y)\n",
    "\n",
    "    # Vorhersagen für den Datensatz machen\n",
    "    predictions = model.predict(X)\n",
    "\n",
    "    return predictions\n",
    "\n",
    "# Beispielaufruf der Funktion\n",
    "features = ['X1', 'X2']\n",
    "target = 'Y_linear'\n",
    "predictions_linear = linear_model(data, features, target)\n",
    "predictions_linear"
   ]
  },
  {
   "attachments": {},
   "cell_type": "markdown",
   "metadata": {
    "collapsed": false
   },
   "source": [
    "### Random Forest\n"
   ]
  },
  {
   "cell_type": "code",
   "execution_count": null,
   "metadata": {
    "ExecuteTime": {
     "end_time": "2023-06-29T10:04:02.581162400Z",
     "start_time": "2023-06-29T10:04:02.156092800Z"
    },
    "collapsed": false,
    "metadata": {}
   },
   "outputs": [],
   "source": [
    "from sklearn.ensemble import RandomForestRegressor\n",
    "\n",
    "def random_forest(data, features, target, n_estimators=100, random_state=None):\n",
    "    # Features und Zielvariablen aus dem Datensatz extrahieren\n",
    "    X = data[features]\n",
    "    y = data[target]\n",
    "\n",
    "    # Random Forest Regressor erstellen und anpassen\n",
    "    model = RandomForestRegressor(n_estimators=n_estimators, random_state=random_state)\n",
    "    model.fit(X, y)\n",
    "\n",
    "    # Vorhersagen für den Datensatz machen\n",
    "    predictions = model.predict(X)\n",
    "\n",
    "    return predictions\n",
    "\n",
    "# Beispielaufruf der Funktion\n",
    "features = ['X1', 'X2']\n",
    "target = 'Y_interaction'\n",
    "predictions_rf = random_forest(data, features, target, n_estimators=100, random_state=42)\n",
    "\n"
   ]
  },
  {
   "attachments": {},
   "cell_type": "markdown",
   "metadata": {
    "collapsed": false
   },
   "source": [
    "#### Ergebnisse mittels RMSE vergleichen:"
   ]
  },
  {
   "cell_type": "code",
   "execution_count": null,
   "metadata": {
    "ExecuteTime": {
     "end_time": "2023-06-29T10:04:02.599515600Z",
     "start_time": "2023-06-29T10:04:02.581658400Z"
    },
    "collapsed": false,
    "metadata": {}
   },
   "outputs": [],
   "source": [
    "from sklearn.metrics import mean_squared_error\n",
    "\n",
    "def calculate_rmse(predictions, actual_values):\n",
    "    mse = mean_squared_error(actual_values, predictions)\n",
    "    rmse = np.sqrt(mse)\n",
    "    return rmse\n",
    "\n",
    "# Beispielaufruf der Funktionen\n",
    "actual_values = data[target]\n",
    "\n",
    "# RMSE für das lineare Modell berechnen\n",
    "rmse_linear = calculate_rmse(predictions_linear, actual_values)\n",
    "print(\"RMSE Linear Regression:\", rmse_linear)\n",
    "\n",
    "# RMSE für den Random Forest berechnen\n",
    "rmse_rf = calculate_rmse(predictions_rf, actual_values)\n",
    "print(\"RMSE Random Forest:\", rmse_rf)\n"
   ]
  },
  {
   "cell_type": "code",
   "execution_count": null,
   "metadata": {
    "metadata": {}
   },
   "outputs": [],
   "source": [
    "help(np.random.Generator)"
   ]
  },
  {
   "attachments": {},
   "cell_type": "markdown",
   "metadata": {
    "collapsed": false
   },
   "source": [
    "Hierbei fällt auf, dass der Randomforest einen deutlich geringeren RMSE hat obwohl der\n",
    " Datengenerierende Prozesse genau der Idee eines linearen Modells entsprechen sollte"
   ]
  },
  {
   "cell_type": "code",
   "execution_count": null,
   "metadata": {
    "ExecuteTime": {
     "end_time": "2023-06-29T10:04:03.417911200Z",
     "start_time": "2023-06-29T10:04:02.601003300Z"
    },
    "collapsed": false,
    "metadata": {}
   },
   "outputs": [],
   "source": [
    "import numpy as np\n",
    "from sklearn.model_selection import train_test_split\n",
    "from sklearn.linear_model import LinearRegression\n",
    "from sklearn.ensemble import RandomForestRegressor\n",
    "from sklearn.metrics import mean_squared_error\n",
    "\n",
    "# Funktion zum Berechnen des RMSE\n",
    "def calculate_rmse(predictions, actual_values):\n",
    "    mse = mean_squared_error(actual_values, predictions)\n",
    "    rmse = np.sqrt(mse)\n",
    "    return rmse\n",
    "\n",
    "# Simulierte Daten generieren\n",
    "np.random.seed(42)\n",
    "n = 1000\n",
    "\n",
    "X1 = np.random.uniform(low=0, high=10, size=n)\n",
    "X2 = np.random.uniform(low=0, high=5, size=n)\n",
    "X_interaction = X1 * X2  # Interaktionsterm\n",
    "Y = 2 * X1 + 3 * X2 + 5 * X_interaction + np.random.default_rng(seed = 42).normal(loc = 0, scale = 5, size = n)\n",
    "\n",
    "# Daten in Trainings- und Testdaten aufteilen\n",
    "X_train, X_test, y_train, y_test = train_test_split(\n",
    "    np.column_stack((X1, X2, X_interaction)), Y, test_size=0.2, random_state=42\n",
    ")\n",
    "\n",
    "# Lineares Modell ohne Interaktionsterm\n",
    "linear_model_no_interaction = LinearRegression()\n",
    "linear_model_no_interaction.fit(X_train[:, :2], y_train)\n",
    "predictions_no_interaction = linear_model_no_interaction.predict(X_test[:, :2])\n",
    "rmse_no_interaction = calculate_rmse(predictions_no_interaction, y_test)\n",
    "print(\"Linear Model (No Interaction) RMSE:\", rmse_no_interaction)\n",
    "\n",
    "# Lineares Modell mit Interaktionsterm\n",
    "linear_model_with_interaction = LinearRegression()\n",
    "linear_model_with_interaction.fit(X_train, y_train)\n",
    "predictions_with_interaction = linear_model_with_interaction.predict(X_test)\n",
    "rmse_with_interaction = calculate_rmse(predictions_with_interaction, y_test)\n",
    "print(\"Linear Model (With Interaction) RMSE:\", rmse_with_interaction)\n",
    "\n",
    "# Random Forest\n",
    "rf_model = RandomForestRegressor(n_estimators=100, random_state=42)\n",
    "rf_model.fit(X_train, y_train)\n",
    "predictions_rf = rf_model.predict(X_test)\n",
    "rmse_rf = calculate_rmse(predictions_rf, y_test)\n",
    "print(\"Random Forest RMSE:\", rmse_rf)"
   ]
  },
  {
   "attachments": {},
   "cell_type": "markdown",
   "metadata": {
    "collapsed": false
   },
   "source": [
    "In diesem Skript wird ein Datensatz mit einem Interaktionsterm simuliert, indem Zufallsvariablen für X1, X2 und X_interaction generiert werden. Die abhängige Variable Y wird basierend auf diesen Variablen und einem zufälligen Rauschen erstellt.\n",
    "\n",
    "Der Datensatz wird dann in Trainings- und Testdaten mit einem Verhältnis von 80:20 aufgeteilt. Anschließend werden ein lineares Modell ohne Interaktionsterm, ein lineares Modell mit Interaktionsterm und ein Random Forest auf den Trainingsdaten trainiert.\n",
    "\n",
    "Die Vorhersagen der Modelle auf den Testdaten werden verwendet, um den RMSE für jedes Modell zu berechnen und auszugeben. Ein niedrigerer RMSE deutet auf eine bessere Modellleistung hin."
   ]
  },
  {
   "attachments": {},
   "cell_type": "markdown",
   "metadata": {},
   "source": [
    "#### Lineares Model: Diagnose"
   ]
  },
  {
   "attachments": {},
   "cell_type": "markdown",
   "metadata": {},
   "source": [
    "Wir haben uns bisher auf Prediction fokusiert. Inferenz und\n",
    "Modeldiagnose sind jedoch 2 weitere wichtige Aspekte der statistischen\n",
    "Analyse. Wir schauen uns nochmal ein lineares Model an."
   ]
  },
  {
   "cell_type": "code",
   "execution_count": null,
   "metadata": {
    "metadata": {}
   },
   "outputs": [],
   "source": [
    "n = 200\n",
    "X1 = np.random.uniform(low = 0, high = 10, size = n)\n",
    "X2 = np.random.uniform(low = 0, high = 5, size = n)\n",
    "Y_linear = 2 * X1 -5 * X2 + np.random.default_rng(seed = 42).normal(loc = 0, scale = 1, size = n)\n",
    "df = pd.DataFrame({'X1': X1,\n",
    "                    'X2': X2,\n",
    "                    'Y_linear': Y_linear})\n",
    "df"
   ]
  },
  {
   "attachments": {},
   "cell_type": "markdown",
   "metadata": {},
   "source": [
    "Ein guter Startpunkt für weitere Analysen ist is oft das visualisieren\n",
    "der Daten."
   ]
  },
  {
   "cell_type": "code",
   "execution_count": null,
   "metadata": {
    "metadata": {}
   },
   "outputs": [],
   "source": [
    "#Plot der einzelnen Achsen:\n",
    "import matplotlib.pyplot as plt\n",
    "plt.scatter(\"X1\", \"Y_linear\", data=df)"
   ]
  },
  {
   "cell_type": "code",
   "execution_count": null,
   "metadata": {
    "metadata": {}
   },
   "outputs": [],
   "source": [
    "plt.scatter(\"X2\", \"Y_linear\", data=df)"
   ]
  },
  {
   "cell_type": "code",
   "execution_count": null,
   "metadata": {
    "collapsed": false,
    "metadata": {}
   },
   "outputs": [],
   "source": [
    "#3D Plot:\n",
    "import plotly.express as px\n",
    "fig = px.scatter_3d(df, x='X1', y='X2', z= \"Y_linear\")\n",
    "fig.show()"
   ]
  },
  {
   "cell_type": "code",
   "execution_count": null,
   "metadata": {
    "metadata": {}
   },
   "outputs": [],
   "source": [
    "X = df[[\"X1\", \"X2\"]]\n",
    "y = df[\"Y_linear\"]\n",
    "\n",
    "model = LinearRegression()\n",
    "model.fit(X, y)"
   ]
  },
  {
   "attachments": {},
   "cell_type": "markdown",
   "metadata": {},
   "source": [
    "den klassischen summary() Befehl aus R gibt es in python nicht. Wir \n",
    "müssen auf die uns interssierenden Modelparameter einzeln zugreifen."
   ]
  },
  {
   "cell_type": "code",
   "execution_count": null,
   "metadata": {
    "metadata": {}
   },
   "outputs": [],
   "source": [
    "model.coef_ #Betas"
   ]
  },
  {
   "cell_type": "code",
   "execution_count": null,
   "metadata": {
    "metadata": {}
   },
   "outputs": [],
   "source": [
    "model.intercept_ #Achsenabschnitt"
   ]
  },
  {
   "cell_type": "markdown",
   "metadata": {},
   "source": [
    "Note: In scikit-learn zeigt der Unterstrich am Ende eines Attributnamens, wie bei coef_, dass dieses Attribut nach dem Anpassen des Modells erstellt oder befüllt wird. Diese Namenskonvention dient dazu, zwischen Parametern zu unterscheiden, die beim Initialisieren des Modells gesetzt werden, und Attributen, die während des Anpassungsprozesses aus den Daten abgeleitet werden."
   ]
  },
  {
   "cell_type": "code",
   "execution_count": null,
   "metadata": {
    "metadata": {}
   },
   "outputs": [],
   "source": [
    "model.score(X, y) #R quadrat"
   ]
  },
  {
   "attachments": {},
   "cell_type": "markdown",
   "metadata": {},
   "source": [
    "Sklearn hat keine inbuilt Möglichkeit t-Werte oder p-Werte auszugeben, \n",
    "der Fokus liegt auf Prediction. Um trotzdem t- und p- Werte zu \n",
    "bestimmen brauchen wir das statsmodels package."
   ]
  },
  {
   "cell_type": "code",
   "execution_count": null,
   "metadata": {
    "metadata": {}
   },
   "outputs": [],
   "source": [
    "import statsmodels.api as sm"
   ]
  },
  {
   "cell_type": "code",
   "execution_count": null,
   "metadata": {
    "metadata": {}
   },
   "outputs": [],
   "source": [
    "# Create and fit the OLS (Ordinary Least Squares) model\n",
    "X = sm.add_constant(X) #intercept ist nicht standardmäßig im model.\n",
    "model = sm.OLS(y, X)\n",
    "model = model.fit()\n",
    "\n",
    "# Print the summary which includes p-values\n",
    "print(model.summary())"
   ]
  },
  {
   "cell_type": "code",
   "execution_count": null,
   "metadata": {
    "metadata": {}
   },
   "outputs": [],
   "source": [
    "x1_line = np.linspace(min(X[\"X1\"]), max(X[\"X1\"]), n)\n",
    "x2_line = np.zeros_like(x1_line)\n",
    "np.column_stack((x1_line, x2_line))"
   ]
  },
  {
   "cell_type": "code",
   "execution_count": null,
   "metadata": {
    "metadata": {}
   },
   "outputs": [],
   "source": [
    "# X Werte für Reg. Line bei x2 = 0\n",
    "x0_line = np.array([0]*n)\n",
    "x1_line = np.linspace(min(X[\"X1\"]), max(X[\"X1\"]), n)\n",
    "x2_line = np.zeros_like(x1_line)\n",
    "\n",
    "# Predictions\n",
    "Y_line = model.predict(np.column_stack((x0_line, x1_line, x2_line)))\n",
    "\n",
    "# Scatter\n",
    "plt.scatter(X1, y, label='Data')\n",
    "\n",
    "# Regression line assuming x2 = 0\n",
    "plt.plot(x1_line, Y_line, color='red', label='Regression Line (x2=0)')"
   ]
  },
  {
   "attachments": {},
   "cell_type": "markdown",
   "metadata": {},
   "source": [
    "#### GLM: Logistic Regression"
   ]
  },
  {
   "attachments": {},
   "cell_type": "markdown",
   "metadata": {},
   "source": [
    "Manchmal ist der Zusammenhang den wir beobachten nicht linear. Weiterhin\n",
    "kann es vorkommen, dass die Annahme der normalverteilten Störterme \n",
    "keinen Sinn macht. Beobachten wir zum Beispiel die Varable \"überlebt\" \n",
    "im Kontext der Titanic, so gibt es nur 2 Merkmalsausprägungen: 0 = tot,\n",
    "1 = überlebt. Ein normalverteilter Störterm macht da keinen Sinn, da \n",
    "dieser automatisch Werte wie zum Beispiel 1,22321 oder -0.2324 möglich \n",
    "machen würde. Abhilfe schaffen gerneralized linear models (GLM).\n",
    "\n",
    "Wir starten mit der logistischen Regression:\n",
    "\n",
    "$$\n",
    "\\mathbb{E}[Y|X] = P(Y=1|X) = \\frac{1}{1 + \\exp\\left(-(\\beta_0 + \\beta_1 \\cdot X)\\right)}\n",
    "$$\n",
    "\n",
    "Die Verteilungsannahme für die logistische Regression besagt, dass \n",
    "die abhängige Variable einer binomialverteilten Zufallsvariablen folgt. \n",
    "Diese Annahme kann wie folgt dargestellt werden:\n",
    "\n",
    "- $Y_i$ ist die beobachtete Anzahl der Erfolge für den $i$-ten Fall,\n",
    "- $n_i$ ist die Anzahl der Versuche oder Beobachtungen für den $i$-ten Fall, und\n",
    "- $p_i$ ist die Wahrscheinlichkeit des Erfolgs für den $i$-ten Fall.\n",
    "\n",
    "Mathematisch ausgedrückt lautet die Verteilungsannahme:\n",
    "\n",
    "$Y_i \\sim \\text{Binomial}(n_i, p_i)$"
   ]
  },
  {
   "cell_type": "code",
   "execution_count": null,
   "metadata": {
    "metadata": {}
   },
   "outputs": [],
   "source": [
    "import seaborn as sns\n",
    "\n",
    "# Titanic-Datensatz von seaborn laden\n",
    "titanic_data = sns.load_dataset('titanic')\n",
    "\n",
    "# Zugriff auf die Spalten \"age\" (Alter) und \"survived\" (Überleben)\n",
    "age = titanic_data['age']\n",
    "survived = titanic_data['survived']"
   ]
  },
  {
   "cell_type": "code",
   "execution_count": null,
   "metadata": {
    "metadata": {}
   },
   "outputs": [],
   "source": [
    "# Scatter Plot von Alter gegen Überleben\n",
    "plt.scatter(age, survived, alpha=0.5)\n",
    "\n",
    "# Achsenbeschriftung\n",
    "plt.xlabel('Alter')\n",
    "plt.ylabel('Überlebt')\n",
    "\n",
    "# Plot anzeigen\n",
    "plt.show()"
   ]
  },
  {
   "cell_type": "code",
   "execution_count": 46,
   "metadata": {
    "metadata": {}
   },
   "outputs": [],
   "source": [
    "# Auswahl der 'age'- und 'survived'-Spalten\n",
    "data = titanic_data[['age', 'survived']].copy()\n",
    "\n",
    "# Entfernen von Zeilen mit fehlenden Werten\n",
    "data.dropna(inplace=True)"
   ]
  },
  {
   "cell_type": "markdown",
   "metadata": {},
   "source": [
    "Note: Copies vs. Views"
   ]
  },
  {
   "cell_type": "code",
   "execution_count": 44,
   "metadata": {
    "metadata": {}
   },
   "outputs": [
    {
     "name": "stdout",
     "output_type": "stream",
     "text": [
      "np1_old: [1 2 3 4 5]\n",
      "np1: [1 2 3 4 5]\n",
      "np2: [33  2  3  4  5]\n",
      "[1, 2, 3, 4]\n",
      "[1, 2, 3, 4]\n"
     ]
    }
   ],
   "source": [
    "#Note:\n",
    "\n",
    "np1 = np.array([1, 2, 3, 4, 5])\n",
    "\n",
    "print(\"np1_old:\", np1)\n",
    "#np2 = np1.view() #gleich wie: np2 = np1\n",
    "np2 = np1.copy()\n",
    "\n",
    "np2[0] = 33\n",
    "\n",
    "print(\"np1:\", np1)  \n",
    "print(\"np2:\", np2)\n",
    "\n",
    "# Gilt auch für andere python objects:\n",
    "list_a = [1, 2, 3]\n",
    "list_b = list_a\n",
    "\n",
    "list_b.append(4)\n",
    "\n",
    "print(list_a)  # Output: [1, 2, 3, 4]\n",
    "print(list_b)  # Output: [1, 2, 3, 4]\n"
   ]
  },
  {
   "cell_type": "code",
   "execution_count": 47,
   "metadata": {
    "metadata": {}
   },
   "outputs": [
    {
     "name": "stdout",
     "output_type": "stream",
     "text": [
      "Optimization terminated successfully.\n",
      "         Current function value: 0.672429\n",
      "         Iterations 4\n",
      "                           Logit Regression Results                           \n",
      "==============================================================================\n",
      "Dep. Variable:               survived   No. Observations:                  714\n",
      "Model:                          Logit   Df Residuals:                      712\n",
      "Method:                           MLE   Df Model:                            1\n",
      "Date:                Wed, 26 Jun 2024   Pseudo R-squ.:                0.004445\n",
      "Time:                        10:16:51   Log-Likelihood:                -480.11\n",
      "converged:                       True   LL-Null:                       -482.26\n",
      "Covariance Type:            nonrobust   LLR p-value:                   0.03839\n",
      "==============================================================================\n",
      "                 coef    std err          z      P>|z|      [0.025      0.975]\n",
      "------------------------------------------------------------------------------\n",
      "intercept     -0.0567      0.174     -0.327      0.744      -0.397       0.283\n",
      "age           -0.0110      0.005     -2.057      0.040      -0.021      -0.001\n",
      "==============================================================================\n"
     ]
    }
   ],
   "source": [
    "# Umwandeln von 'survived' in binäre 0/1-Werte\n",
    "data['survived'] = data['survived'].astype(int)\n",
    "\n",
    "# Hinzufügen einer konstanten Spalte für den Intercept-Term\n",
    "data['intercept'] = 1\n",
    "\n",
    "# Definition der Prädiktor- und Zielvariablen\n",
    "X = data[['intercept', 'age']]\n",
    "y = data['survived']\n",
    "\n",
    "# Erstellen und Anpassen des logistischen Regressionsmodells\n",
    "logit_model = sm.Logit(y, X)\n",
    "logit_results = logit_model.fit()\n",
    "\n",
    "# Ausgabe der Zusammenfassung des logistischen Regressionsmodells\n",
    "print(logit_results.summary())"
   ]
  },
  {
   "cell_type": "code",
   "execution_count": 48,
   "metadata": {
    "metadata": {}
   },
   "outputs": [
    {
     "data": {
      "image/png": "[encoded data removed]",
      "text/plain": [
       "<Figure size 640x480 with 1 Axes>"
      ]
     },
     "metadata": {},
     "output_type": "display_data"
    }
   ],
   "source": [
    "predictions = logit_results.predict(X)\n",
    "plt.scatter(data['age'], data['survived'], alpha=0.5, label='Daten')\n",
    "\n",
    "plt.scatter(data['age'], predictions, color='red', label='Logistische Regression')\n",
    "\n",
    "\n",
    "plt.xlabel('Alter')\n",
    "plt.ylabel('Überlebt')\n",
    "plt.title('Logistische Regression - Alter vs. Überleben')\n",
    "\n",
    "\n",
    "plt.legend()\n",
    "plt.show()"
   ]
  },
  {
   "attachments": {},
   "cell_type": "markdown",
   "metadata": {},
   "source": [
    "#### GLM: Possion Regression"
   ]
  },
  {
   "attachments": {},
   "cell_type": "markdown",
   "metadata": {},
   "source": [
    "Modellgleichung des Poisson-Modells:\n",
    "$ \\log(\\lambda_i) = \\beta_0 + \\beta_1 \\cdot X_i $ \n",
    "\n",
    "also:\n",
    "\n",
    "$ E(Y_i|X_i) = \\lambda_i = e^{\\beta_0 + \\beta_1 \\cdot X_i} $\n",
    "\n",
    "Verteilungsannahme:\n",
    "$ Y_i \\sim \\text{Poisson}(\\lambda_i) $\n",
    "\n",
    "In der Modellgleichung repräsentiert $ Y_i $ die beobachtete Anzahl der \n",
    "Ereignisse (z.B. Fahrradüberquerungen) für den i-ten Datenpunkt. $ X_i $ \n",
    "ist der Prädiktorwert für den i-ten Datenpunkt, und $ \\lambda_i $ ist \n",
    "der Erwartungswert der Poisson-Verteilung, der von den Prädiktoren \n",
    "abhängt.\n",
    "\n",
    "Die Modellgleichung verwendet die Log-Transformation, um die lineare \n",
    "Beziehung zwischen den Prädiktoren und dem Erwartungswert $ \\lambda_i $ \n",
    "zu modellieren. Die Koeffizienten $ \\beta_0 $ und $ \\beta_1 $ geben die \n",
    "Auswirkung der Prädiktoren auf den Log-Erwartungswert an.\n",
    "\n",
    "Die Verteilungsannahme besagt, dass die beobachteten Ereignisse $ Y_i $ \n",
    "einer Poisson-Verteilung folgen. Diese Verteilungsannahme ist \n",
    "angemessen, wenn die Ereignisse zufällig auftreten und die Ereignisrate \n",
    "$ \\lambda_i $ proportional zu den Prädiktoren ist.\n",
    "\n",
    "Hinweis: $ \\log(\\lambda_i) $ wird auch als Link-Funktion bezeichnet und \n",
    "wird verwendet, um die lineare Beziehung zwischen den Prädiktoren und \n",
    "dem Erwartungswert $ \\lambda_i $ zu modellieren."
   ]
  },
  {
   "cell_type": "code",
   "execution_count": 49,
   "metadata": {
    "metadata": {}
   },
   "outputs": [
    {
     "data": {
      "text/html": [
       "<div>\n",
       "<style scoped>\n",
       "    .dataframe tbody tr th:only-of-type {\n",
       "        vertical-align: middle;\n",
       "    }\n",
       "\n",
       "    .dataframe tbody tr th {\n",
       "        vertical-align: top;\n",
       "    }\n",
       "\n",
       "    .dataframe thead th {\n",
       "        text-align: right;\n",
       "    }\n",
       "</style>\n",
       "<table border=\"1\" class=\"dataframe\">\n",
       "  <thead>\n",
       "    <tr style=\"text-align: right;\">\n",
       "      <th></th>\n",
       "      <th>Unnamed: 0</th>\n",
       "      <th>Date</th>\n",
       "      <th>Day</th>\n",
       "      <th>High Temp (°F)</th>\n",
       "      <th>Low Temp (°F)</th>\n",
       "      <th>Precipitation</th>\n",
       "      <th>Brooklyn Bridge</th>\n",
       "      <th>Manhattan Bridge</th>\n",
       "      <th>Williamsburg Bridge</th>\n",
       "      <th>Queensboro Bridge</th>\n",
       "      <th>Total</th>\n",
       "    </tr>\n",
       "  </thead>\n",
       "  <tbody>\n",
       "    <tr>\n",
       "      <th>0</th>\n",
       "      <td>0</td>\n",
       "      <td>2016-04-01 00:00:00</td>\n",
       "      <td>2016-04-01 00:00:00</td>\n",
       "      <td>78.1</td>\n",
       "      <td>66.0</td>\n",
       "      <td>0.01</td>\n",
       "      <td>1704.0</td>\n",
       "      <td>3126</td>\n",
       "      <td>4115.0</td>\n",
       "      <td>2552.0</td>\n",
       "      <td>11497</td>\n",
       "    </tr>\n",
       "    <tr>\n",
       "      <th>1</th>\n",
       "      <td>1</td>\n",
       "      <td>2016-04-02 00:00:00</td>\n",
       "      <td>2016-04-02 00:00:00</td>\n",
       "      <td>55.0</td>\n",
       "      <td>48.9</td>\n",
       "      <td>0.15</td>\n",
       "      <td>827.0</td>\n",
       "      <td>1646</td>\n",
       "      <td>2565.0</td>\n",
       "      <td>1884.0</td>\n",
       "      <td>6922</td>\n",
       "    </tr>\n",
       "    <tr>\n",
       "      <th>2</th>\n",
       "      <td>2</td>\n",
       "      <td>2016-04-03 00:00:00</td>\n",
       "      <td>2016-04-03 00:00:00</td>\n",
       "      <td>39.9</td>\n",
       "      <td>34.0</td>\n",
       "      <td>0.09</td>\n",
       "      <td>526.0</td>\n",
       "      <td>1232</td>\n",
       "      <td>1695.0</td>\n",
       "      <td>1306.0</td>\n",
       "      <td>4759</td>\n",
       "    </tr>\n",
       "    <tr>\n",
       "      <th>3</th>\n",
       "      <td>3</td>\n",
       "      <td>2016-04-04 00:00:00</td>\n",
       "      <td>2016-04-04 00:00:00</td>\n",
       "      <td>44.1</td>\n",
       "      <td>33.1</td>\n",
       "      <td>0.47 (S)</td>\n",
       "      <td>521.0</td>\n",
       "      <td>1067</td>\n",
       "      <td>1440.0</td>\n",
       "      <td>1307.0</td>\n",
       "      <td>4335</td>\n",
       "    </tr>\n",
       "    <tr>\n",
       "      <th>4</th>\n",
       "      <td>4</td>\n",
       "      <td>2016-04-05 00:00:00</td>\n",
       "      <td>2016-04-05 00:00:00</td>\n",
       "      <td>42.1</td>\n",
       "      <td>26.1</td>\n",
       "      <td>0</td>\n",
       "      <td>1416.0</td>\n",
       "      <td>2617</td>\n",
       "      <td>3081.0</td>\n",
       "      <td>2357.0</td>\n",
       "      <td>9471</td>\n",
       "    </tr>\n",
       "  </tbody>\n",
       "</table>\n",
       "</div>"
      ],
      "text/plain": [
       "   Unnamed: 0                 Date                  Day  High Temp (°F)  \\\n",
       "0           0  2016-04-01 00:00:00  2016-04-01 00:00:00            78.1   \n",
       "1           1  2016-04-02 00:00:00  2016-04-02 00:00:00            55.0   \n",
       "2           2  2016-04-03 00:00:00  2016-04-03 00:00:00            39.9   \n",
       "3           3  2016-04-04 00:00:00  2016-04-04 00:00:00            44.1   \n",
       "4           4  2016-04-05 00:00:00  2016-04-05 00:00:00            42.1   \n",
       "\n",
       "   Low Temp (°F) Precipitation  Brooklyn Bridge  Manhattan Bridge  \\\n",
       "0           66.0          0.01           1704.0              3126   \n",
       "1           48.9          0.15            827.0              1646   \n",
       "2           34.0          0.09            526.0              1232   \n",
       "3           33.1      0.47 (S)            521.0              1067   \n",
       "4           26.1             0           1416.0              2617   \n",
       "\n",
       "   Williamsburg Bridge  Queensboro Bridge  Total  \n",
       "0               4115.0             2552.0  11497  \n",
       "1               2565.0             1884.0   6922  \n",
       "2               1695.0             1306.0   4759  \n",
       "3               1440.0             1307.0   4335  \n",
       "4               3081.0             2357.0   9471  "
      ]
     },
     "execution_count": 49,
     "metadata": {},
     "output_type": "execute_result"
    }
   ],
   "source": [
    "# Load the dataset\n",
    "data = pd.read_csv('data/NB5/nyc-east-river-bicycle-counts.csv')\n",
    "data.head()"
   ]
  },
  {
   "cell_type": "code",
   "execution_count": 50,
   "metadata": {
    "metadata": {}
   },
   "outputs": [
    {
     "data": {
      "text/html": [
       "<div>\n",
       "<style scoped>\n",
       "    .dataframe tbody tr th:only-of-type {\n",
       "        vertical-align: middle;\n",
       "    }\n",
       "\n",
       "    .dataframe tbody tr th {\n",
       "        vertical-align: top;\n",
       "    }\n",
       "\n",
       "    .dataframe thead th {\n",
       "        text-align: right;\n",
       "    }\n",
       "</style>\n",
       "<table border=\"1\" class=\"dataframe\">\n",
       "  <thead>\n",
       "    <tr style=\"text-align: right;\">\n",
       "      <th></th>\n",
       "      <th>Unnamed: 0</th>\n",
       "      <th>Date</th>\n",
       "      <th>Day</th>\n",
       "      <th>High Temp (°F)</th>\n",
       "      <th>Low Temp (°F)</th>\n",
       "      <th>Precipitation</th>\n",
       "      <th>Brooklyn Bridge</th>\n",
       "      <th>Manhattan Bridge</th>\n",
       "      <th>Williamsburg Bridge</th>\n",
       "      <th>Queensboro Bridge</th>\n",
       "      <th>Total</th>\n",
       "      <th>avg_temp</th>\n",
       "    </tr>\n",
       "  </thead>\n",
       "  <tbody>\n",
       "    <tr>\n",
       "      <th>0</th>\n",
       "      <td>0</td>\n",
       "      <td>2016-04-01 00:00:00</td>\n",
       "      <td>2016-04-01 00:00:00</td>\n",
       "      <td>78.1</td>\n",
       "      <td>66.0</td>\n",
       "      <td>0.01</td>\n",
       "      <td>1704.0</td>\n",
       "      <td>3126</td>\n",
       "      <td>4115.0</td>\n",
       "      <td>2552.0</td>\n",
       "      <td>11497</td>\n",
       "      <td>72.05</td>\n",
       "    </tr>\n",
       "    <tr>\n",
       "      <th>1</th>\n",
       "      <td>1</td>\n",
       "      <td>2016-04-02 00:00:00</td>\n",
       "      <td>2016-04-02 00:00:00</td>\n",
       "      <td>55.0</td>\n",
       "      <td>48.9</td>\n",
       "      <td>0.15</td>\n",
       "      <td>827.0</td>\n",
       "      <td>1646</td>\n",
       "      <td>2565.0</td>\n",
       "      <td>1884.0</td>\n",
       "      <td>6922</td>\n",
       "      <td>51.95</td>\n",
       "    </tr>\n",
       "    <tr>\n",
       "      <th>2</th>\n",
       "      <td>2</td>\n",
       "      <td>2016-04-03 00:00:00</td>\n",
       "      <td>2016-04-03 00:00:00</td>\n",
       "      <td>39.9</td>\n",
       "      <td>34.0</td>\n",
       "      <td>0.09</td>\n",
       "      <td>526.0</td>\n",
       "      <td>1232</td>\n",
       "      <td>1695.0</td>\n",
       "      <td>1306.0</td>\n",
       "      <td>4759</td>\n",
       "      <td>36.95</td>\n",
       "    </tr>\n",
       "    <tr>\n",
       "      <th>3</th>\n",
       "      <td>3</td>\n",
       "      <td>2016-04-04 00:00:00</td>\n",
       "      <td>2016-04-04 00:00:00</td>\n",
       "      <td>44.1</td>\n",
       "      <td>33.1</td>\n",
       "      <td>0.47 (S)</td>\n",
       "      <td>521.0</td>\n",
       "      <td>1067</td>\n",
       "      <td>1440.0</td>\n",
       "      <td>1307.0</td>\n",
       "      <td>4335</td>\n",
       "      <td>38.60</td>\n",
       "    </tr>\n",
       "    <tr>\n",
       "      <th>4</th>\n",
       "      <td>4</td>\n",
       "      <td>2016-04-05 00:00:00</td>\n",
       "      <td>2016-04-05 00:00:00</td>\n",
       "      <td>42.1</td>\n",
       "      <td>26.1</td>\n",
       "      <td>0</td>\n",
       "      <td>1416.0</td>\n",
       "      <td>2617</td>\n",
       "      <td>3081.0</td>\n",
       "      <td>2357.0</td>\n",
       "      <td>9471</td>\n",
       "      <td>34.10</td>\n",
       "    </tr>\n",
       "  </tbody>\n",
       "</table>\n",
       "</div>"
      ],
      "text/plain": [
       "   Unnamed: 0                 Date                  Day  High Temp (°F)  \\\n",
       "0           0  2016-04-01 00:00:00  2016-04-01 00:00:00            78.1   \n",
       "1           1  2016-04-02 00:00:00  2016-04-02 00:00:00            55.0   \n",
       "2           2  2016-04-03 00:00:00  2016-04-03 00:00:00            39.9   \n",
       "3           3  2016-04-04 00:00:00  2016-04-04 00:00:00            44.1   \n",
       "4           4  2016-04-05 00:00:00  2016-04-05 00:00:00            42.1   \n",
       "\n",
       "   Low Temp (°F) Precipitation  Brooklyn Bridge  Manhattan Bridge  \\\n",
       "0           66.0          0.01           1704.0              3126   \n",
       "1           48.9          0.15            827.0              1646   \n",
       "2           34.0          0.09            526.0              1232   \n",
       "3           33.1      0.47 (S)            521.0              1067   \n",
       "4           26.1             0           1416.0              2617   \n",
       "\n",
       "   Williamsburg Bridge  Queensboro Bridge  Total  avg_temp  \n",
       "0               4115.0             2552.0  11497     72.05  \n",
       "1               2565.0             1884.0   6922     51.95  \n",
       "2               1695.0             1306.0   4759     36.95  \n",
       "3               1440.0             1307.0   4335     38.60  \n",
       "4               3081.0             2357.0   9471     34.10  "
      ]
     },
     "execution_count": 50,
     "metadata": {},
     "output_type": "execute_result"
    }
   ],
   "source": [
    "# Calculate the average temperature\n",
    "data['avg_temp'] = (data['High Temp (°F)'] + data['Low Temp (°F)']) / 2\n",
    "data.head()"
   ]
  },
  {
   "cell_type": "code",
   "execution_count": 51,
   "metadata": {
    "metadata": {}
   },
   "outputs": [
    {
     "name": "stdout",
     "output_type": "stream",
     "text": [
      "                 Generalized Linear Model Regression Results                  \n",
      "==============================================================================\n",
      "Dep. Variable:                  Total   No. Observations:                  210\n",
      "Model:                            GLM   Df Residuals:                      208\n",
      "Model Family:                 Poisson   Df Model:                            1\n",
      "Link Function:                    Log   Scale:                          1.0000\n",
      "Method:                          IRLS   Log-Likelihood:            -1.4827e+05\n",
      "Date:                Wed, 26 Jun 2024   Deviance:                   2.9417e+05\n",
      "Time:                        10:20:37   Pearson chi2:                 2.71e+05\n",
      "No. Iterations:                     4   Pseudo R-squ. (CS):              1.000\n",
      "Covariance Type:            nonrobust                                         \n",
      "==============================================================================\n",
      "                 coef    std err          z      P>|z|      [0.025      0.975]\n",
      "------------------------------------------------------------------------------\n",
      "const          8.1461      0.003   2390.129      0.000       8.139       8.153\n",
      "avg_temp       0.0263      6e-05    437.639      0.000       0.026       0.026\n",
      "==============================================================================\n"
     ]
    }
   ],
   "source": [
    "X = sm.add_constant(data['avg_temp'])\n",
    "y = data['Total']\n",
    "\n",
    "# Poisson Regression Modell erstellen und anpassen\n",
    "poisson_modell = sm.GLM(y, X, family=sm.families.Poisson())\n",
    "poisson_results = poisson_modell.fit()\n",
    "\n",
    "# Modellzusammenfassung anzeigen\n",
    "print(poisson_results.summary())"
   ]
  },
  {
   "cell_type": "code",
   "execution_count": 52,
   "metadata": {
    "metadata": {}
   },
   "outputs": [
    {
     "data": {
      "image/png": "[encoded data removed]",
      "text/plain": [
       "<Figure size 640x480 with 1 Axes>"
      ]
     },
     "metadata": {},
     "output_type": "display_data"
    }
   ],
   "source": [
    "# Predictions:\n",
    "predictions = poisson_results.predict(X)\n",
    "\n",
    "# Plot:\n",
    "plt.scatter(data['avg_temp'], data['Total'], label='Actual Data')\n",
    "plt.scatter(data['avg_temp'], predictions, color='red', label='Predictions')\n",
    "plt.xlabel('Average Temperature')\n",
    "plt.ylabel('Total Bike Crossings')\n",
    "plt.legend()\n",
    "plt.title('Actual Data vs. Predictions')\n",
    "plt.show()"
   ]
  }
 ],
 "metadata": {
  "kernelspec": {
   "display_name": "Python 3",
   "language": "python",
   "name": "python3"
  },
  "language_info": {
   "codemirror_mode": {
    "name": "ipython",
    "version": 3
   },
   "file_extension": ".py",
   "mimetype": "text/x-python",
   "name": "python",
   "nbconvert_exporter": "python",
   "pygments_lexer": "ipython3",
   "version": "3.9.13"
  }
 },
 "nbformat": 4,
 "nbformat_minor": 0
}
