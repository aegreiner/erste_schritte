{
 "cells": [
  {
   "attachments": {},
   "cell_type": "markdown",
   "metadata": {},
   "source": [
    "# Notebook5: Simulationen + GLM Exercises"
   ]
  },
  {
   "attachments": {},
   "cell_type": "markdown",
   "metadata": {},
   "source": [
    "## Aufgabe 1"
   ]
  },
  {
   "attachments": {},
   "cell_type": "markdown",
   "metadata": {},
   "source": [
    "Wir simulieren ein Würfelspiel bei dem es darum geht das Empire State\n",
    "Building hochzulaufen. Wir wollen wissen wie wahrscheinlich es ist, \n",
    "dass man in 100 Würfen \n",
    "des Würfels die 60. Stufe des Empire State Buildings erreicht. \n",
    "Wir werden diese Sequenz mehrfach simulieren, um die \n",
    "Wahrscheinlichkeit zu berechnen, die 60. Stufe in 100 Versuchen \n",
    "mithilfe der Würfelspiel-Logik zu erreichen.\n",
    "\n",
    "Regeln:\n",
    "\n",
    "Für jede Zufallsweg-Sequenz werfen wir einen Würfel.<br />\n",
    "Wir starten auf dem Boden, bei Stufe 0.<br />\n",
    "Wenn der Wurf des Würfels eine 1 oder 2 ergibt, müssen wir eine Stufe \n",
    "hinuntergehen.<br />\n",
    "Bei einem Wurf von 3, 4 oder 5 können wir eine Stufe nach oben gehen.<br />\n",
    "Bei einem Wurf von 6 dürfen wir den Würfel erneut werfen und uns um die <br />\n",
    "Anzahl der geworfenen Augen vorwärts bewegen.<br />\n",
    "Es besteht eine geringe Chance, dass wir ungeschickt sind und die Treppe \n",
    "hinunterfallen. In diesem Fall beginnen wir wieder bei Stufe 0.<br />\n",
    "Die Anzahl der Stufen kann nicht negativ sein, und der niedrigste Wert \n",
    "ist immer 0, was dem Start auf dem Boden entspricht.<br />\n",
    "\n",
    "Der seed sollte 42 sein.\n",
    "\n",
    "a) Simuliere die Walks.<br />\n",
    "b) Plotte Walks mit lineplots. <br />\n",
    "c) Plote die Verteilung der Walks am Ende des Spiels mit einem \n",
    "Histogram + KDE Plot.<br />\n",
    "d) Schätze die Wahrscheinlichkeit, dass man am Ende des Spiels bei einer\n",
    "Stufe >= 60 landet.\n",
    "\n",
    "Parameter:<br />\n",
    "Wuerfe = 100<br />\n",
    "Iterationen = 100<br />\n",
    "Fallwahrscheinlichkeit = 10 #in Prozent\n"
   ]
  },
  {
   "attachments": {},
   "cell_type": "markdown",
   "metadata": {},
   "source": [
    "## Aufgabe 2"
   ]
  },
  {
   "attachments": {},
   "cell_type": "markdown",
   "metadata": {},
   "source": [
    "a) Simuliere einen Regressor (X) als Array von zufälligen Werten \n",
    "zwischen -2 und 2.\n",
    "\n",
    "b) Simuliere einen Poisson-Prozess, bei dem die erwartete Anzahl der \n",
    "Ereignisse (lambda) von X abhängt. Verwende die Formel \n",
    "$$\\log(\\lambda) = 2 + 1,4*X$$\n",
    "Halte die Anzahl der draws n flexibel.\n",
    "\n",
    "b) Schätze die Poisson-Regression, indem du die Count-Daten (Y) als \n",
    "abhängige Variable und den Regressor (X) als unabhängige Variable \n",
    "verwendest. Füge eine Konstante hinzu, um die Regressionskoeffizienten \n",
    "zu schätzen.\n",
    "\n",
    "c) Erstelle eine Pandas DataFrame mit den Werten von X und den \n",
    "entsprechenden Vorhersagen aus der Poisson-Regression.\n",
    "\n",
    "d) Sortiere den DataFrame nach der Spalte \"X\".\n",
    "\n",
    "e) Plotte den Regressor (X) gegen die Vorhersagen. Verwende Matplotlib, \n",
    "um ein Liniendiagramm zu erstellen. Beschrifte die Achsen und den \n",
    "Titel des Diagramms."
   ]
  }
 ],
 "metadata": {
  "kernelspec": {
   "display_name": "Python 3",
   "language": "python",
   "name": "python3"
  },
  "language_info": {
   "codemirror_mode": {
    "name": "ipython",
    "version": 3
   },
   "file_extension": ".py",
   "mimetype": "text/x-python",
   "name": "python",
   "nbconvert_exporter": "python",
   "pygments_lexer": "ipython3",
   "version": "3.9.13"
  }
 },
 "nbformat": 4,
 "nbformat_minor": 0
}
